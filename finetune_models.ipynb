{
 "cells": [
  {
   "cell_type": "markdown",
   "id": "bc2c0f07",
   "metadata": {},
   "source": [
    "# Fine-tuning the CNN and concept models"
   ]
  },
  {
   "cell_type": "code",
   "execution_count": 1,
   "id": "02b6b7e5",
   "metadata": {},
   "outputs": [],
   "source": [
    "import matplotlib.pyplot as plt\n",
    "import numpy as np\n",
    "from torch import save\n",
    "import torch\n",
    "import csv\n",
    "import sys\n",
    "from torchinfo import summary\n",
    "\n",
    "from pytorch_lightning import LightningModule, Trainer\n",
    "from pytorch_lightning.loggers import CSVLogger\n",
    "from pytorch_lightning.callbacks import ModelCheckpoint\n",
    "from pytorch_lightning.callbacks import LearningRateMonitor\n",
    "from pytorch_lightning.callbacks import TQDMProgressBar\n",
    "from pytorch_lightning.callbacks.early_stopping import EarlyStopping\n",
    "\n",
    "import seaborn as sns\n",
    "sns.set_theme(style=\"darkgrid\")"
   ]
  },
  {
   "cell_type": "code",
   "execution_count": 2,
   "id": "6d09dd05",
   "metadata": {},
   "outputs": [],
   "source": [
    "%load_ext autoreload\n",
    "%autoreload 2\n",
    "from LIDCDataModule import LIDCDataModule\n",
    "from CNNModelFinetune import CNNModelFinetune\n",
    "from conceptModelFinetune import conceptModelFinetune"
   ]
  },
  {
   "cell_type": "code",
   "execution_count": 3,
   "id": "b8db537e",
   "metadata": {},
   "outputs": [],
   "source": [
    "device = \"cuda:0\""
   ]
  },
  {
   "cell_type": "code",
   "execution_count": 10,
   "id": "21da0429",
   "metadata": {},
   "outputs": [],
   "source": [
    "data_path = \"/home/lbrocki/ConRad/dataset\"\n",
    "weights_path = \"/home/lbrocki/ConRad/weights\""
   ]
  },
  {
   "cell_type": "markdown",
   "id": "83cccf4f",
   "metadata": {},
   "source": [
    "### fine-tuning CNN model"
   ]
  },
  {
   "cell_type": "code",
   "execution_count": null,
   "id": "6e9639bb",
   "metadata": {},
   "outputs": [],
   "source": [
    "# train on 5 folds\n",
    "for fold in range(5):\n",
    "    print(f\"fold: {fold}\")\n",
    "    trainer = Trainer(\n",
    "        gpus=[0],\n",
    "        accelerator=\"gpu\",\n",
    "        max_epochs=50,\n",
    "        callbacks=[\n",
    "            LearningRateMonitor(logging_interval=\"epoch\"), \n",
    "            TQDMProgressBar(refresh_rate=10),\n",
    "        ],\n",
    "        precision=16\n",
    "    )\n",
    "    model = CNNModelFinetune(learning_rate=1e-3)\n",
    "    data_module = LIDCDataModule(\n",
    "        data_dir=data_path, \n",
    "        fold=fold, \n",
    "        batch_size=32, \n",
    "        labels=\"targets\",\n",
    "        finetune=True\n",
    "    )\n",
    "    trainer.fit(model, data_module)\n",
    "    torch.save(model.state_dict(), f\"{weights_path}/cnn_finetune_{fold}.pt\")"
   ]
  },
  {
   "cell_type": "markdown",
   "id": "98adecc5",
   "metadata": {},
   "source": [
    "### fine-tuning concept model"
   ]
  },
  {
   "cell_type": "code",
   "execution_count": null,
   "id": "021af0b9",
   "metadata": {},
   "outputs": [],
   "source": [
    "# train on 5 folds\n",
    "for fold in range(5):\n",
    "    print(f\"fold: {fold}\")\n",
    "    trainer = Trainer(\n",
    "        gpus=[0],\n",
    "        accelerator=\"gpu\",\n",
    "        max_epochs=50,\n",
    "        callbacks=[\n",
    "            LearningRateMonitor(logging_interval=\"epoch\"), \n",
    "            TQDMProgressBar(refresh_rate=10),\n",
    "        ],\n",
    "        precision=16\n",
    "    )\n",
    "    model = conceptModelFinetune(learning_rate=1e-3)\n",
    "    data_module = LIDCDataModule(\n",
    "        data_dir=data_path, \n",
    "        fold=fold, \n",
    "        batch_size=32, \n",
    "        labels=\"concepts\",\n",
    "        finetune=True\n",
    "    )\n",
    "    trainer.fit(model, data_module)\n",
    "    torch.save(model.state_dict(), f\"{weights_path}/concept_finetune_{fold}.pt\")"
   ]
  },
  {
   "cell_type": "markdown",
   "id": "f91588fd",
   "metadata": {},
   "source": [
    "### evaluating performance of CNN model"
   ]
  },
  {
   "cell_type": "code",
   "execution_count": null,
   "id": "f79edece",
   "metadata": {},
   "outputs": [],
   "source": [
    "trainer = Trainer(\n",
    "    gpus=[0],\n",
    "    accelerator=\"gpu\",\n",
    "    precision=16\n",
    ")\n",
    "acc = []\n",
    "auroc = []\n",
    "precision = []\n",
    "recall = []\n",
    "roc = []\n",
    "for fold in range(5):\n",
    "    print(fold)\n",
    "    data_module = LIDCDataModule(data_dir=\"dataset_masks\", fold=fold, finetune=True, num_workers=4)\n",
    "    model = CNNModelFinetune()\n",
    "    model.load_state_dict(torch.load(f\"weights/cnn_finetune_25_01_{fold}.pt\"))\n",
    "    model.eval()\n",
    "    res = trainer.test(model, data_module)\n",
    "    acc.append(res[0][\"val_acc\"])\n",
    "    auroc.append(res[0][\"val_auroc\"])\n",
    "    precision.append(res[0][\"val_precision\"])\n",
    "    recall.append(res[0][\"val_recall\"])\n",
    "#     roc.append(res[0][\"val_roc\"])"
   ]
  },
  {
   "cell_type": "code",
   "execution_count": 41,
   "id": "3b45c691",
   "metadata": {},
   "outputs": [
    {
     "data": {
      "text/plain": [
       "0.8854260563850402"
      ]
     },
     "execution_count": 41,
     "metadata": {},
     "output_type": "execute_result"
    }
   ],
   "source": [
    "np.mean(precision)"
   ]
  },
  {
   "cell_type": "code",
   "execution_count": 43,
   "id": "ecea5ca7",
   "metadata": {},
   "outputs": [
    {
     "data": {
      "text/plain": [
       "0.891104233264923"
      ]
     },
     "execution_count": 43,
     "metadata": {},
     "output_type": "execute_result"
    }
   ],
   "source": [
    "np.mean(acc)"
   ]
  },
  {
   "cell_type": "code",
   "execution_count": 44,
   "id": "22613031",
   "metadata": {},
   "outputs": [
    {
     "data": {
      "text/plain": [
       "0.8831798315048218"
      ]
     },
     "execution_count": 44,
     "metadata": {},
     "output_type": "execute_result"
    }
   ],
   "source": [
    "np.mean(recall)"
   ]
  }
 ],
 "metadata": {
  "kernelspec": {
   "display_name": "pytorch",
   "language": "python",
   "name": "pytorch"
  },
  "language_info": {
   "codemirror_mode": {
    "name": "ipython",
    "version": 3
   },
   "file_extension": ".py",
   "mimetype": "text/x-python",
   "name": "python",
   "nbconvert_exporter": "python",
   "pygments_lexer": "ipython3",
   "version": "3.9.16"
  }
 },
 "nbformat": 4,
 "nbformat_minor": 5
}
